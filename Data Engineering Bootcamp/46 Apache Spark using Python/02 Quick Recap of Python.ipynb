{
 "cells": [
  {
   "cell_type": "markdown",
   "metadata": {},
   "source": [
    "# Quick Recap of Python\n",
    "\n",
    "Let us quickly recap of some of the core programming concepts of Python before we get into Spark. Here is the video for the same.\n",
    "\n",
    "[![Apache Spark - Quick Recap of Python](http://img.youtube.com/vi/8QRKI_nJ88Y/0.jpg)](http://www.youtube.com/watch?v=8QRKI_nJ88Y \"Apache Spark - Quick Recap of Python\")\n",
    "\n",
    "You can also sign up to our labs for practice by going to [ITVersity labs](https://labs.itversity.com/)"
   ]
  },
  {
   "cell_type": "markdown",
   "metadata": {},
   "source": [
    "## Data Engineering Life Cycle\n",
    "\n",
    "Let us first understand the Data Engineering Life Cycle. We typically read the data, process it by applying business rules and write the data back to different targets\n",
    "\n",
    "* Read the data from different sources.\n",
    " * Files\n",
    " * Databases\n",
    " * Mainframes\n",
    " * APIs\n",
    "* Processing the data\n",
    " * Row Level Transformations\n",
    " * Aggregations\n",
    " * Sorting\n",
    " * Ranking\n",
    " * Joining multiple data sets\n",
    "* Write data to different targets.\n",
    " * Files\n",
    " * Databases\n",
    " * Mainframes\n",
    " * APIs"
   ]
  },
  {
   "cell_type": "markdown",
   "metadata": {},
   "source": [
    "## Python CLI or Jupyter Notebook\n",
    "\n",
    "We can use Python CLI or Jupyter Notebook to explore APIs.\n",
    "\n",
    "* We can launch Python CLI using `python` command.\n",
    "* We can launch the Jupyter Notebook using the `jupyter notebook` command.\n",
    "* A web service will be started on port number 8888 by default.\n",
    "* We can go to the browser and connect to the web server using IP address and port number.\n",
    "* We should be able to explore code in interactive fashion.\n",
    "* We can issue magic commands such as %%sh to run shell commands, %%md to document using markdown etc."
   ]
  },
  {
   "cell_type": "markdown",
   "metadata": {},
   "source": [
    "### Tasks\n",
    "\n",
    "Let us perform these tasks to just recollect how to use Python CLI or Jupyter Notebook.\n",
    "* Create variables i and j assigning 10 and 20.5 respectively."
   ]
  },
  {
   "cell_type": "code",
   "execution_count": null,
   "metadata": {},
   "outputs": [],
   "source": [
    "i = 10\n",
    "j = 20.5"
   ]
  },
  {
   "cell_type": "markdown",
   "metadata": {},
   "source": [
    "* Add the values and assign it to res."
   ]
  },
  {
   "cell_type": "code",
   "execution_count": null,
   "metadata": {},
   "outputs": [],
   "source": [
    "res = i + j\n",
    "print(str(res))"
   ]
  },
  {
   "cell_type": "markdown",
   "metadata": {},
   "source": [
    "* Get the type of i, j and res."
   ]
  },
  {
   "cell_type": "code",
   "execution_count": null,
   "metadata": {},
   "outputs": [],
   "source": [
    "type(i)"
   ]
  },
  {
   "cell_type": "code",
   "execution_count": null,
   "metadata": {},
   "outputs": [],
   "source": [
    "type(j)"
   ]
  },
  {
   "cell_type": "code",
   "execution_count": null,
   "metadata": {},
   "outputs": [],
   "source": [
    "type(res)"
   ]
  },
  {
   "cell_type": "markdown",
   "metadata": {},
   "source": [
    "* Get the help on int."
   ]
  },
  {
   "cell_type": "code",
   "execution_count": null,
   "metadata": {},
   "outputs": [],
   "source": [
    "help(int)"
   ]
  },
  {
   "cell_type": "markdown",
   "metadata": {},
   "source": [
    "* Get the help on startswith that is available on str."
   ]
  },
  {
   "cell_type": "code",
   "execution_count": null,
   "metadata": {},
   "outputs": [],
   "source": [
    "help(str.startswith)"
   ]
  },
  {
   "cell_type": "markdown",
   "metadata": {},
   "source": [
    "## Basic Programming Constructs\n",
    "\n",
    "Let us recollect some of the basic programming constructs of Python.\n",
    "* Comparison Operations (==, !=, <, >, <=, >=, etc) \n",
    "  * All the comparison operators return a True or False (Boolean value)\n",
    "* Conditionals (if) \n",
    "  * We typically use comparison operators as part of conditionals.\n",
    "* Loops (for) \n",
    "  * We can iterate through collection using `for i in l` where l is a standard collection such as list or set.\n",
    "  * Python provides special function called as `range` which will return a collection of integers between the given range. It excludes the upper bound value.\n",
    "* In Python, scope is defined by indentation."
   ]
  },
  {
   "cell_type": "markdown",
   "metadata": {},
   "source": [
    "### Tasks\n",
    " \n",
    "Let us perform few tasks to quickly recap basic programming constructs of Python.\n",
    " * Get all the odd numbers between 1 and 15.\n",
    " "
   ]
  },
  {
   "cell_type": "code",
   "execution_count": null,
   "metadata": {},
   "outputs": [],
   "source": [
    "list(range(1, 16, 2))"
   ]
  },
  {
   "cell_type": "markdown",
   "metadata": {},
   "source": [
    "* Print all those numbers which are divisible by 3 from the above list."
   ]
  },
  {
   "cell_type": "code",
   "execution_count": null,
   "metadata": {},
   "outputs": [],
   "source": [
    "for i in list(range(1, 16, 2)):\n",
    "    if(i%3 == 0): print(i)"
   ]
  },
  {
   "cell_type": "markdown",
   "metadata": {},
   "source": [
    "## Developing Functions\n",
    "\n",
    "Let us understand how to develop functions using Python as programming language.\n",
    "* Function starts with `def` followed by function name.\n",
    "* Parameters can be of different types.\n",
    "    * Required\n",
    "    * Keyword\n",
    "    * Variable Number\n",
    "    * Functions\n",
    "* Functions which take another function as an argument is called higher order functions."
   ]
  },
  {
   "cell_type": "markdown",
   "metadata": {},
   "source": [
    "### Tasks\n",
    "\n",
    " Let us perform few tasks to understand how to develop functions in Python.   \n",
    " \n",
    " * Sum of integers between lower bound and upper bound using formula."
   ]
  },
  {
   "cell_type": "code",
   "execution_count": null,
   "metadata": {},
   "outputs": [],
   "source": [
    "def sumOfN(n):\n",
    "    return int((n * (n + 1)) / 2)\n",
    "\n",
    "sumOfN(10)"
   ]
  },
  {
   "cell_type": "code",
   "execution_count": null,
   "metadata": {},
   "outputs": [],
   "source": [
    "def sumOfIntegers(lb, ub):\n",
    "    return sumOfN(ub) - sumOfN(lb -1)\n",
    "\n",
    "sumOfIntegers(5, 10)"
   ]
  },
  {
   "cell_type": "markdown",
   "metadata": {},
   "source": [
    "* Sum of integers between lower bound and upper bound using loops."
   ]
  },
  {
   "cell_type": "code",
   "execution_count": null,
   "metadata": {},
   "outputs": [],
   "source": [
    "def sumOfIntegers(lb, ub):\n",
    "    total = 0\n",
    "    for e in range(lb, ub + 1):\n",
    "        total += e\n",
    "    return total\n",
    "\n",
    "sumOfIntegers(1, 10)"
   ]
  },
  {
   "cell_type": "markdown",
   "metadata": {},
   "source": [
    "* Sum of squares of integers between lower bound and upper bound using loops."
   ]
  },
  {
   "cell_type": "code",
   "execution_count": null,
   "metadata": {},
   "outputs": [],
   "source": [
    "def sumOfSquares(lb, ub):\n",
    "    total = 0\n",
    "    for e in range(lb, ub + 1):\n",
    "        total += e * e\n",
    "    return total\n",
    "\n",
    "sumOfSquares(2, 4)"
   ]
  },
  {
   "cell_type": "markdown",
   "metadata": {},
   "source": [
    "* Sum of the even numbers between lower bound and upper bound using loops."
   ]
  },
  {
   "cell_type": "code",
   "execution_count": null,
   "metadata": {},
   "outputs": [],
   "source": [
    "def sumOfEvens(lb, ub):\n",
    "    total = 0\n",
    "    for e in range(lb, ub + 1):\n",
    "        total += e if e%2==0 else 0\n",
    "    return total\n",
    "\n",
    "sumOfEvens(2, 4)"
   ]
  },
  {
   "cell_type": "markdown",
   "metadata": {},
   "source": [
    "## Lambda Functions\n",
    "\n",
    "Let us recap details related to lambda functions.\n",
    "\n",
    "* We can develop functions with out names. They are called Lambda Functions and also known as Anonymous Functions.\n",
    "* We typically use them to pass as arguments to higher order functions which takes functions as arguments."
   ]
  },
  {
   "cell_type": "markdown",
   "metadata": {},
   "source": [
    "### Tasks\n",
    "\n",
    "Let us perform few tasks related to lambda functions.\n",
    "    \n",
    "* Create a generic function mySum which is supposed to perform arithmetic using integers within a range.\n",
    "    \n",
    "    * It takes 3 arguments - lb, ub and f.\n",
    "    * Function f should be invoked inside the function on each element within the range.\n",
    "\n",
    "    "
   ]
  },
  {
   "cell_type": "code",
   "execution_count": null,
   "metadata": {},
   "outputs": [],
   "source": [
    "def mySum(lb, ub, f):\n",
    "    total = 0\n",
    "    for e in range(lb, ub + 1):\n",
    "        total += f(e)\n",
    "    return total"
   ]
  },
  {
   "cell_type": "markdown",
   "metadata": {},
   "source": [
    "* Sum of integers between lower bound and upper bound using mySum."
   ]
  },
  {
   "cell_type": "code",
   "execution_count": null,
   "metadata": {},
   "outputs": [],
   "source": [
    "mySum(2, 4, lambda i: i)"
   ]
  },
  {
   "cell_type": "markdown",
   "metadata": {},
   "source": [
    "* Sum of squares of integers between lower bound and upper bound using mySum."
   ]
  },
  {
   "cell_type": "code",
   "execution_count": null,
   "metadata": {},
   "outputs": [],
   "source": [
    "mySum(2, 4, lambda i: i * i)"
   ]
  },
  {
   "cell_type": "markdown",
   "metadata": {},
   "source": [
    "* Sum of the even numbers between lower bound and upper bound using mySum."
   ]
  },
  {
   "cell_type": "code",
   "execution_count": null,
   "metadata": {},
   "outputs": [],
   "source": [
    "mySum(2, 4, lambda i: i if i%2 == 0 else 0)"
   ]
  },
  {
   "cell_type": "markdown",
   "metadata": {},
   "source": [
    "## Overview of Collections and Tuples\n",
    "\n",
    "Let's quickly recap about Collections and Tuples in Python. We will primarily talk about collections and tuples that comes as part of Python standard library such as `list`, `set`, `dict` and `tuple`.\n",
    "\n",
    "* Group of elements with length and index - `list`\n",
    "* Group of unique elements - `set`\n",
    "* Group of key value pairs - `dict`\n",
    "* While list, set and dict contain group of homogeneous elements, tuple contains group of heterogeneous elements.\n",
    "* We can consider `list`, `set` and `dict` as a table in a database and `tuple` as a row or record in a given table.\n",
    "* Typically we create list of tuples or set of tuples and dict is nothing but collection of tuples with 2 elements and key is unique.\n",
    "* We typically use Map Reduce APIs to process the data in collections. There are also some pre-defined functions such as `len`, `sum`, `min`, `max` etc for aggregating data in collections."
   ]
  },
  {
   "cell_type": "markdown",
   "metadata": {},
   "source": [
    "### Tasks\n",
    "\n",
    "Let us perform few tasks to quickly recap details about Collections and Tuples in Python. We will also quickly recap about Map Reduce APIs.\n",
    "\n",
    "* Create a collection of orders by reading data from a file."
   ]
  },
  {
   "cell_type": "code",
   "execution_count": null,
   "metadata": {},
   "outputs": [],
   "source": [
    "%%sh\n",
    "ls -ltr /data/retail_db/orders/part-00000"
   ]
  },
  {
   "cell_type": "code",
   "execution_count": null,
   "metadata": {},
   "outputs": [],
   "source": [
    "orders_path = \"/data/retail_db/orders/part-00000\"\n",
    "orders = open(orders_path). \\\n",
    "    read(). \\\n",
    "    splitlines()"
   ]
  },
  {
   "cell_type": "markdown",
   "metadata": {},
   "source": [
    "* Get all unique order statuses. Make sure data is sorted in alphabetical order."
   ]
  },
  {
   "cell_type": "code",
   "execution_count": null,
   "metadata": {},
   "outputs": [],
   "source": [
    "sorted(set(map(lambda o: o.split(\",\")[3], orders)))"
   ]
  },
  {
   "cell_type": "markdown",
   "metadata": {},
   "source": [
    "* Get count of all unique dates."
   ]
  },
  {
   "cell_type": "code",
   "execution_count": null,
   "metadata": {},
   "outputs": [],
   "source": [
    "len(list(map(lambda o: o.split(\",\")[1], orders)))"
   ]
  },
  {
   "cell_type": "markdown",
   "metadata": {},
   "source": [
    "* Sort the data in orders in ascending order by order_customer_id and then order_date."
   ]
  },
  {
   "cell_type": "code",
   "execution_count": null,
   "metadata": {},
   "outputs": [],
   "source": [
    "sorted(orders, key=lambda k: (int(k.split(\",\")[2]), k.split(\",\")[1]))"
   ]
  },
  {
   "cell_type": "markdown",
   "metadata": {},
   "source": [
    "* Create a collection of order_items by reading data from a file."
   ]
  },
  {
   "cell_type": "code",
   "execution_count": null,
   "metadata": {},
   "outputs": [],
   "source": [
    "order_items_path = \"/data/retail_db/order_items/part-00000\"\n",
    "order_items = open(order_items_path). \\\n",
    "    read(). \\\n",
    "    splitlines()"
   ]
  },
  {
   "cell_type": "markdown",
   "metadata": {},
   "source": [
    "* Get revenue for a given order_item_order_id."
   ]
  },
  {
   "cell_type": "code",
   "execution_count": null,
   "metadata": {},
   "outputs": [],
   "source": [
    "def get_order_revenue(order_items, order_id):\n",
    "    order_items_filtered = filter(lambda oi: \n",
    "                                  int(oi.split(\",\")[1]) == 2, \n",
    "                                  order_items\n",
    "                                 )\n",
    "    order_items_map = map(lambda oi: \n",
    "                          float(oi.split(\",\")[4]), \n",
    "                          order_items_filtered\n",
    "                         )\n",
    "    return round(sum(order_items_map), 2)\n",
    "\n",
    "get_order_revenue(order_items, 2)"
   ]
  },
  {
   "cell_type": "markdown",
   "metadata": {},
   "source": [
    "## Overview of Pandas Data Frames\n",
    "\n",
    "While collections are typically the group of objects or tuples or simple strings, we need to parse them to further process the data. This process is tedious at times.\n",
    " * With Data Frames we can define the structure.\n",
    " * Data Frame is nothing but group of rows where each row have multiple attributes with names.\n",
    " * Data Frame is similar to a Database Table or Spreadsheet with Header.\n",
    " * Pandas provide rich and simple functions to convert data in files into Data Frames and process them\n",
    " * Data can be read from files into Data Frame using functions such as read_csv.\n",
    " * We can perform all standard operations on Data Frames.\n",
    "    * Projection or Selection     \n",
    "    * Filtering     \n",
    "    * Aggregations     \n",
    "    * Joins     \n",
    "    * Sorting"
   ]
  },
  {
   "cell_type": "markdown",
   "metadata": {},
   "source": [
    "### Tasks\n",
    "\n",
    "Let us perform few tasks to recap the usage of Pandas Data Frames.\n",
    "    \n",
    " * Read order items data from the location on your system. In mine it is /data/retail_db/order_items/part-00000. Use the information below to define schema.\n",
    " * It has 6 fields with the below names in the same order as specified below.\n",
    " * order_item_id\n",
    " * order_item_order_id\n",
    " * order_item_product_id\n",
    " * order_item_quantity\n",
    " * order_item_subtotal\n",
    " * order_item_product_price"
   ]
  },
  {
   "cell_type": "code",
   "execution_count": null,
   "metadata": {},
   "outputs": [],
   "source": [
    "import pandas as pd\n",
    "order_items_path = \"/data/retail_db/order_items/part-00000\"\n",
    "order_items = pd. \\\n",
    "    read_csv(order_items_path,\n",
    "             names=[\"order_item_id\", \"order_item_order_id\",\n",
    "                    \"order_item_product_id\", \"order_item_quantity\",\n",
    "                    \"order_item_subtotal\", \"order_item_product_price\"\n",
    "                   ]\n",
    "            )"
   ]
  },
  {
   "cell_type": "markdown",
   "metadata": {},
   "source": [
    "* Project order_item_order_id and order_item_subtotal"
   ]
  },
  {
   "cell_type": "code",
   "execution_count": null,
   "metadata": {},
   "outputs": [],
   "source": [
    "order_items[[\"order_item_id\", \"order_item_subtotal\"]]"
   ]
  },
  {
   "cell_type": "markdown",
   "metadata": {},
   "source": [
    "* Filter for order_item_order_id 2"
   ]
  },
  {
   "cell_type": "code",
   "execution_count": null,
   "metadata": {},
   "outputs": [],
   "source": [
    "order_items.query(\"order_item_order_id == 2\")"
   ]
  },
  {
   "cell_type": "markdown",
   "metadata": {},
   "source": [
    "* Compute revenue for order_item_order_id 2"
   ]
  },
  {
   "cell_type": "code",
   "execution_count": null,
   "metadata": {},
   "outputs": [],
   "source": [
    "order_items. \\\n",
    "    query(\"order_item_order_id == 2\")[\"order_item_subtotal\"]. \\\n",
    "    sum()"
   ]
  },
  {
   "cell_type": "markdown",
   "metadata": {},
   "source": [
    "* Get number of items and revenue for each order id. Give alias to the order revenue as **revenue**."
   ]
  },
  {
   "cell_type": "code",
   "execution_count": null,
   "metadata": {},
   "outputs": [],
   "source": [
    "order_items. \\\n",
    "    groupby(\"order_item_order_id\")[\"order_item_subtotal\"]. \\\n",
    "    sum()"
   ]
  },
  {
   "cell_type": "code",
   "execution_count": null,
   "metadata": {},
   "outputs": [],
   "source": [
    "order_items. \\\n",
    "    groupby(\"order_item_order_id\")[\"order_item_subtotal\"]. \\\n",
    "    agg(['sum', 'count']). \\\n",
    "    rename(columns={'sum': 'revenue'})"
   ]
  },
  {
   "cell_type": "markdown",
   "metadata": {},
   "source": [
    "## Limitations of Pandas\n",
    "\n",
    "We can use Pandas for data processing. It provides rich APIs to read data from different sources, process the data and then write it to different targets.\n",
    "\n",
    "* Pandas works well for light weight data processing.\n",
    "* Pandas is typically single threaded, which means only one process take care of processing the data.\n",
    "* As data volume grows, the processing time might grow exponentially and also run into resource contention.\n",
    "* It is not trivial to use distributed processing using Pandas APIs. We will end up struggling with multi threading rather than business logic.\n",
    "* There are Distributed Computing Frameworks such as Hadoop Map Reduce, Spark etc to take care of data processing at scale on multi node Hadoop or Spark Clusters.\n",
    "* Both Hadoop Map Reduce and Spark comes with Distributed Computing Frameworks as well as APIs.\n",
    "\n",
    "**Pandas is typically used for light weight Data Processing and Spark is used for Data Processing at Scale.**"
   ]
  },
  {
   "cell_type": "markdown",
   "metadata": {},
   "source": [
    "## Development Life Cycle\n",
    "\n",
    "Let us understand the development life cycle. We typically use IDEs such as PyCharm to develop Python based applications.\n",
    "\n",
    "* Create Project - retail\n",
    "* Choose the interpreter 3.x\n",
    "* Make sure plugins such as pandas are installed.\n",
    "* Create config.py script for externalizing run time parameters such as input path, output path etc.\n",
    "* Create app folder for the source code."
   ]
  },
  {
   "cell_type": "markdown",
   "metadata": {},
   "source": [
    "### Tasks\n",
    "\n",
    "Let us develop a simple application to understand end to end development life cycle.\n",
    "\n",
    "* Read the data from order_items\n",
    "* Get revenue for each order id\n",
    "* Save the output which contain order id and revenue to a file.\n",
    "\n",
    "Click [here](https://github.com/dgadiraju/python-retail/tree/v1.0) for the complete code for the above tasks."
   ]
  },
  {
   "cell_type": "markdown",
   "metadata": {},
   "source": [
    "## Exercises\n",
    "\n",
    "Let us perform few exercises to understand how to process the data. We will use LinkedIn data to perform some basic data processing using Python.\n",
    "\n",
    "* Get LinkedIn archive.\n",
    "  * Go to https://linkedin.com\n",
    "  * Me on top -> Settings & Privacy\n",
    "  * Then go to \"How LinkedIn users your data\" -> Getting a copy of your data\n",
    "  * Register and download. You will get a link as part of the email.\n",
    "* Data contain multiple CSV files. We will limit the analysis to **Contacts.csv** and **Connections.csv**.\n",
    "* Get the number of **contacts** with out email ids.\n",
    "* Get the number of **contacts** from each source.\n",
    "* Get the number of **connections** with each title.\n",
    "* Get the number of **connections** from each company.\n",
    "* Get the number of **contacts** for each month in the year 2018.\n",
    "* Use Postgres or MySQL as databases (you can setup in your laptop) and write connections data to the database"
   ]
  },
  {
   "cell_type": "code",
   "execution_count": null,
   "metadata": {},
   "outputs": [],
   "source": []
  }
 ],
 "metadata": {
  "kernelspec": {
   "display_name": "Python 3",
   "language": "python",
   "name": "python3"
  },
  "language_info": {
   "codemirror_mode": {
    "name": "ipython",
    "version": 3
   },
   "file_extension": ".py",
   "mimetype": "text/x-python",
   "name": "python",
   "nbconvert_exporter": "python",
   "pygments_lexer": "ipython3",
   "version": "3.7.7"
  },
  "pycharm": {
   "stem_cell": {
    "cell_type": "raw",
    "metadata": {
     "collapsed": false
    },
    "source": []
   }
  }
 },
 "nbformat": 4,
 "nbformat_minor": 4
}
